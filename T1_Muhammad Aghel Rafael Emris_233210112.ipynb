{
 "cells": [
  {
   "cell_type": "code",
   "execution_count": 12,
   "metadata": {},
   "outputs": [
    {
     "name": "stdout",
     "output_type": "stream",
     "text": [
      "keliling segitiga =  15\n"
     ]
    }
   ],
   "source": [
    "#mencari keliling segitiga\n",
    "\n",
    "# keliling segitiga = sisi x sisi x sisi, variabel sisi = s\n",
    "s = int(input(\"sisi=\"))\n",
    "\n",
    "#setelah buat variabel sisi masukkan ke rumus keliling segitiga\n",
    "keliling_segitiga = s+s+s\n",
    "\n",
    "#tampilkan nilai keliling segitiga \n",
    "print(\"keliling segitiga = \", keliling_segitiga)\n",
    "\n"
   ]
  },
  {
   "cell_type": "code",
   "execution_count": 14,
   "metadata": {},
   "outputs": [
    {
     "name": "stdout",
     "output_type": "stream",
     "text": [
      "luas segitiga =  12.0\n"
     ]
    }
   ],
   "source": [
    "#mencari luas segitiga\n",
    "\n",
    "#rumus untuk mencari luas segitiga adalah, 1/2 x alas x tinggi, masukkan variaebl alas sebagai a, tinggi sebagai t\n",
    "a = 6\n",
    "t = 4\n",
    "\n",
    "#setelah nilai alas dan tinggi sudah di masukkan ke variabel kemudian buat variabel baru yaitu luas segitiga untuk mencari luas dengan rumus dibawah\n",
    "luas_segitiga = 1/2*a*t\n",
    "\n",
    "#tampilkan hasil dari luas dari segitiga dengan cara print\n",
    "print(\"luas segitiga = \", luas_segitiga)\n",
    "\n"
   ]
  }
 ],
 "metadata": {
  "language_info": {
   "name": "python"
  }
 },
 "nbformat": 4,
 "nbformat_minor": 2
}
